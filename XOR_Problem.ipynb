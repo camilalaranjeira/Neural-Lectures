{
  "nbformat": 4,
  "nbformat_minor": 0,
  "metadata": {
    "colab": {
      "name": "XOR_Problem.ipynb",
      "provenance": [],
      "collapsed_sections": []
    },
    "kernelspec": {
      "name": "python3",
      "display_name": "Python 3"
    },
    "accelerator": "GPU"
  },
  "cells": [
    {
      "cell_type": "markdown",
      "metadata": {
        "id": "Ppb3ZP8K6A6X",
        "colab_type": "text"
      },
      "source": [
        "# Problema do XOR\n",
        "\n",
        "Vamos simular aqui dois problemas de classificação:\n",
        "- Linearmente separável\n",
        "- Não linearmente separável (problema do XOR)\n",
        "\n",
        "Na primeira etapa tentaremos solucionar o problema com um modelo neural bem simples, contendo apenas um único perceptron. Na etapa 2 implementaremos um Multi-Layer Perceptron (MLP) contendo uma camada escondida.\n",
        "\n",
        "O objetivo é analisar o comportamento de ambos os modelos para mostrar a limitação do Perceptron e ao mesmo tempo como MLPs são efetivos para problemas não lineares.\n"
      ]
    },
    {
      "cell_type": "markdown",
      "metadata": {
        "id": "EpYQikZy6pBj",
        "colab_type": "text"
      },
      "source": [
        "## Etapa 1: Perceptron\n",
        "\n",
        "![](https://drive.google.com/uc?export=view&id=1S-tCAA5sZ1aRY5TjmA4FRztmJzVP3kh3)\n"
      ]
    },
    {
      "cell_type": "markdown",
      "metadata": {
        "id": "bbUUX-2myeE8",
        "colab_type": "text"
      },
      "source": [
        "### Definindo o nosso modelo de classificação. Uma rede simples com uma única unidade neural."
      ]
    },
    {
      "cell_type": "code",
      "metadata": {
        "id": "njwmGVrPmb0D",
        "colab_type": "code",
        "colab": {}
      },
      "source": [
        "from torch.autograd import Variable\n",
        "import torch.nn as nn\n",
        "import torch\n",
        "\n",
        "class Perceptron(nn.Module):\n",
        "\n",
        "  def __init__(self):\n",
        "    super(Perceptron, self).__init__()\n",
        "    \n",
        "    # nn.Linear(dimensão da entrada, dimensão da saída)\n",
        "    self.linear = nn.Linear(2, 1)\n",
        "    self.activation = nn.Sigmoid()\n",
        "    \n",
        "  def forward(self, x):\n",
        "    output = self.activation(self.linear(x))\n",
        "    return output"
      ],
      "execution_count": 0,
      "outputs": []
    },
    {
      "cell_type": "markdown",
      "metadata": {
        "id": "gHV6ae2dyT0L",
        "colab_type": "text"
      },
      "source": [
        "### Função auxiliar para plot da fronteira de decisão do classificador."
      ]
    },
    {
      "cell_type": "code",
      "metadata": {
        "id": "RumkpL7hv_1r",
        "colab_type": "code",
        "colab": {}
      },
      "source": [
        "def plot_boundary(X, y, model):\n",
        "  x_min, x_max = X[:, 0].min()-0.1, X[:, 0].max()+0.1\n",
        "  y_min, y_max = X[:, 1].min()-0.1, X[:, 1].max()+0.1\n",
        "  \n",
        "  spacing = min(x_max - x_min, y_max - y_min) / 100\n",
        "  \n",
        "  XX, YY = np.meshgrid(np.arange(x_min, x_max, spacing),\n",
        "                       np.arange(y_min, y_max, spacing))\n",
        "  \n",
        "  data = np.hstack((XX.ravel().reshape(-1,1), \n",
        "                    YY.ravel().reshape(-1,1)))\n",
        "  \n",
        "  # For binary problems\n",
        "  db_prob = model(Variable(torch.Tensor(data)).cuda() )\n",
        "  clf = np.where(db_prob.cpu().data < 0.5,0,1)\n",
        "  \n",
        "  # For multi-class problems\n",
        "  db_prob = model(torch.Tensor(data).to(device) )\n",
        "  clf = np.argmax(db_prob.cpu().data.numpy(), axis=-1)\n",
        "  \n",
        "  Z = clf.reshape(XX.shape)\n",
        "  \n",
        "  plt.contourf(XX, YY, Z, cmap=plt.cm.bwr, alpha=0.5)\n",
        "  plt.scatter(X[:,0], X[:,1], c=y[:,0], edgecolors='k', s=25)\n"
      ],
      "execution_count": 0,
      "outputs": []
    },
    {
      "cell_type": "markdown",
      "metadata": {
        "id": "GkhkG2TsyYrg",
        "colab_type": "text"
      },
      "source": [
        "### Função para treinamento do modelo e visualização dos resultados."
      ]
    },
    {
      "cell_type": "code",
      "metadata": {
        "id": "-wXqxO19nokN",
        "colab_type": "code",
        "colab": {}
      },
      "source": [
        "import pandas as pd\n",
        "\n",
        "def train(X, Y, size=60):\n",
        "  \n",
        "  #### Nesse momento definimos o tamanho da entrada\n",
        "  #### e o número de unidades da camada neural.\n",
        "  p = Perceptron().cuda()\n",
        "\n",
        "  Xt = Variable(torch.Tensor(X)).cuda()\n",
        "  Yt = Variable(torch.Tensor(Y)).cuda()\n",
        "\n",
        "  criterion = nn.L1Loss().cuda()\n",
        "  optimizer = torch.optim.Adam(p.parameters(), lr=1e-2)\n",
        "\n",
        "  num_epochs = 1000\n",
        "  for epoch in range(num_epochs):\n",
        "\n",
        "    p.train()\n",
        "\n",
        "    output = p(Xt)\n",
        "    loss = criterion(output, Yt)\n",
        "\n",
        "    optimizer.zero_grad()\n",
        "    loss.backward()\n",
        "    optimizer.step()\n",
        "\n",
        "\n",
        "  out = p(Xt)\n",
        "  plot_boundary(X, Y, p, size)\n",
        "\n",
        "  \n",
        "  \n",
        "  "
      ],
      "execution_count": 0,
      "outputs": []
    },
    {
      "cell_type": "markdown",
      "metadata": {
        "id": "szMBJPaWyp4I",
        "colab_type": "text"
      },
      "source": [
        "### Gerando dados linearmente separáveis"
      ]
    },
    {
      "cell_type": "code",
      "metadata": {
        "id": "qqjmxIF_ncd2",
        "colab_type": "code",
        "outputId": "d79b07cf-a48f-4bf2-85f8-ba73de01a9c8",
        "colab": {
          "base_uri": "https://localhost:8080/",
          "height": 286
        }
      },
      "source": [
        "import numpy as np\n",
        "import matplotlib.pyplot as plt\n",
        "\n",
        "%matplotlib inline\n",
        "\n",
        "class_A = np.array([[0,0], [0,1]])\n",
        "class_B = np.array([[1,1], [1,0]])\n",
        "\n",
        "X = np.append(class_A, class_B, axis=0)\n",
        "Y = np.expand_dims(np.array([0,0,1,1]), axis=-1)\n",
        "\n",
        "fig = plt.figure()\n",
        "ax = fig.add_subplot(111)\n",
        "\n",
        "ax.scatter(class_A[:,0], class_A[:,1], s=200)\n",
        "ax.scatter(class_B[:,0], class_B[:,1], s=200)"
      ],
      "execution_count": 0,
      "outputs": [
        {
          "output_type": "execute_result",
          "data": {
            "text/plain": [
              "<matplotlib.collections.PathCollection at 0x7fddc5ad4828>"
            ]
          },
          "metadata": {
            "tags": []
          },
          "execution_count": 5
        },
        {
          "output_type": "display_data",
          "data": {
            "image/png": "[encoded data removed]",
            "text/plain": [
              "<Figure size 432x288 with 1 Axes>"
            ]
          },
          "metadata": {
            "tags": []
          }
        }
      ]
    },
    {
      "cell_type": "markdown",
      "metadata": {
        "id": "M6Rm-68t0yoc",
        "colab_type": "text"
      },
      "source": [
        "### Chamando a função de treinamento"
      ]
    },
    {
      "cell_type": "code",
      "metadata": {
        "id": "li48AcsNzSvt",
        "colab_type": "code",
        "outputId": "4dab7e97-97ba-4c2f-a32b-d7cb6cf2c645",
        "colab": {
          "base_uri": "https://localhost:8080/",
          "height": 269
        }
      },
      "source": [
        "train(X, Y, size=200)"
      ],
      "execution_count": 0,
      "outputs": [
        {
          "output_type": "display_data",
          "data": {
            "image/png": "[encoded data removed]",
            "text/plain": [
              "<Figure size 432x288 with 1 Axes>"
            ]
          },
          "metadata": {
            "tags": []
          }
        }
      ]
    },
    {
      "cell_type": "markdown",
      "metadata": {
        "id": "y5YmNscVzVZG",
        "colab_type": "text"
      },
      "source": [
        "### Gerando dados não linearmente separáveis (Problema do XOR)"
      ]
    },
    {
      "cell_type": "code",
      "metadata": {
        "id": "bDcyyjYXzVEU",
        "colab_type": "code",
        "outputId": "911688e9-649f-4bad-f202-78929769be00",
        "colab": {
          "base_uri": "https://localhost:8080/",
          "height": 301
        }
      },
      "source": [
        "class_A = np.array([[0,0], [1,1]])\n",
        "class_B = np.array([[0,1], [1,0]])\n",
        "\n",
        "X = np.append(class_A, class_B, axis=0)\n",
        "Y = np.expand_dims(np.array([0,0,1,1]), axis=-1)\n",
        "\n",
        "fig = plt.figure()\n",
        "ax = fig.add_subplot(111)\n",
        "\n",
        "ax.scatter(class_A[:,0], class_A[:,1], s=200)\n",
        "ax.scatter(class_B[:,0], class_B[:,1], s=200)\n",
        "ax.set_ylabel('x2')\n",
        "ax.set_xlabel('x1')"
      ],
      "execution_count": 0,
      "outputs": [
        {
          "output_type": "execute_result",
          "data": {
            "text/plain": [
              "Text(0.5, 0, 'x1')"
            ]
          },
          "metadata": {
            "tags": []
          },
          "execution_count": 7
        },
        {
          "output_type": "display_data",
          "data": {
            "image/png": "[encoded data removed]",
            "text/plain": [
              "<Figure size 432x288 with 1 Axes>"
            ]
          },
          "metadata": {
            "tags": []
          }
        }
      ]
    },
    {
      "cell_type": "markdown",
      "metadata": {
        "id": "84qb6OqH0sjk",
        "colab_type": "text"
      },
      "source": [
        "### Chamando a função de treinamento"
      ]
    },
    {
      "cell_type": "code",
      "metadata": {
        "id": "zTL6jkTfzd6o",
        "colab_type": "code",
        "outputId": "b20d9902-7394-4bdc-d245-c0699392958a",
        "colab": {
          "base_uri": "https://localhost:8080/",
          "height": 269
        }
      },
      "source": [
        "train(X, Y,size=200)"
      ],
      "execution_count": 0,
      "outputs": [
        {
          "output_type": "display_data",
          "data": {
            "image/png": "[encoded data removed]",
            "text/plain": [
              "<Figure size 432x288 with 1 Axes>"
            ]
          },
          "metadata": {
            "tags": []
          }
        }
      ]
    },
    {
      "cell_type": "markdown",
      "metadata": {
        "id": "NGEFS8by7q3H",
        "colab_type": "text"
      },
      "source": [
        "## Etapa 2: Multi-Layer Perceptron\n",
        "\n",
        "Definindo modelo neural com uma camada escondida e uma camada de saída, adicionando uma ativação não linear na camada escondida.  Essas características atendem os requisitos mínimos do Teorema de Aproximação Universal.\n",
        "\n",
        "![](https://drive.google.com/uc?export=view&id=1LgOdmGBJT_BUjfTzH9EVi26HAJ9LFH-Y)\n"
      ]
    },
    {
      "cell_type": "code",
      "metadata": {
        "id": "DASSt44w0D2h",
        "colab_type": "code",
        "colab": {}
      },
      "source": [
        "from torch.autograd import Variable\n",
        "import torch.nn as nn\n",
        "import torch\n",
        "\n",
        "class Perceptron(nn.Module):\n",
        "\n",
        "  def __init__(self):\n",
        "    super(Perceptron, self).__init__()\n",
        "    \n",
        "    # nn.Linear(dimensão da entrada, dimensão da saída)\n",
        "    self.linear_hidden = nn.Linear(2, 3)\n",
        "    self.linear_out    = nn.Linear(3, 1)\n",
        "    self.activation    = nn.Sigmoid()\n",
        "    \n",
        "  def forward(self, x):\n",
        "    feature = self.activation(self.linear_hidden(x))\n",
        "    output  = self.activation(self.linear_out(feature))\n",
        "    \n",
        "    return output"
      ],
      "execution_count": 0,
      "outputs": []
    },
    {
      "cell_type": "code",
      "metadata": {
        "id": "5tGYaiag1xnN",
        "colab_type": "code",
        "outputId": "1609c2bb-4d84-49b1-e24a-7042a783b6b2",
        "colab": {
          "base_uri": "https://localhost:8080/",
          "height": 269
        }
      },
      "source": [
        "train(X, Y, size=200)"
      ],
      "execution_count": 0,
      "outputs": [
        {
          "output_type": "display_data",
          "data": {
            "image/png": "[encoded data removed]",
            "text/plain": [
              "<Figure size 432x288 with 1 Axes>"
            ]
          },
          "metadata": {
            "tags": []
          }
        }
      ]
    }
  ]
}